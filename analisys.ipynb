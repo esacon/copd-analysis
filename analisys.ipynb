{
 "cells": [
  {
   "cell_type": "code",
   "execution_count": 1,
   "metadata": {},
   "outputs": [],
   "source": [
    "import os\n",
    "import numpy as np\n",
    "import pandas as pd\n",
    "\n",
    "from matplotlib import pyplot as plt\n",
    "from numpy import load\n",
    "from numpy import asarray\n",
    "from numpy import save\n",
    "from numpy import mean\n",
    "from numpy import std\n",
    "\n",
    "from tensorflow.keras import models\n",
    "from tensorflow.keras import layers\n",
    "from tensorflow.keras import optimizers\n",
    "\n",
    "from tensorflow.keras.preprocessing.image import load_img\n",
    "from tensorflow.keras.preprocessing.image import img_to_array\n",
    "from sklearn.model_selection import train_test_split\n",
    "from sklearn.model_selection import KFold\n",
    "from sklearn.metrics import classification_report, confusion_matrix\n",
    "from tensorflow.keras.utils import to_categorical\n",
    "from tensorflow.keras.models import load_model\n",
    "from tensorflow.keras.optimizers import Adam\n",
    "from tensorflow.keras.callbacks import EarlyStopping, ReduceLROnPlateau"
   ]
  },
  {
   "cell_type": "code",
   "execution_count": 2,
   "metadata": {},
   "outputs": [
    {
     "data": {
      "text/html": [
       "<div>\n",
       "<style scoped>\n",
       "    .dataframe tbody tr th:only-of-type {\n",
       "        vertical-align: middle;\n",
       "    }\n",
       "\n",
       "    .dataframe tbody tr th {\n",
       "        vertical-align: top;\n",
       "    }\n",
       "\n",
       "    .dataframe thead th {\n",
       "        text-align: right;\n",
       "    }\n",
       "</style>\n",
       "<table border=\"1\" class=\"dataframe\">\n",
       "  <thead>\n",
       "    <tr style=\"text-align: right;\">\n",
       "      <th></th>\n",
       "      <th>name</th>\n",
       "      <th>duration</th>\n",
       "      <th>freq_rate</th>\n",
       "      <th>num_resp</th>\n",
       "    </tr>\n",
       "  </thead>\n",
       "  <tbody>\n",
       "    <tr>\n",
       "      <th>495</th>\n",
       "      <td>Audio 12-19-2022 15-38-13_mono_shifted_2</td>\n",
       "      <td>18.25</td>\n",
       "      <td>44100</td>\n",
       "      <td>5</td>\n",
       "    </tr>\n",
       "    <tr>\n",
       "      <th>496</th>\n",
       "      <td>Audio 12-19-2022 16-06-51_mono_shifted_1</td>\n",
       "      <td>19.02</td>\n",
       "      <td>44100</td>\n",
       "      <td>7</td>\n",
       "    </tr>\n",
       "    <tr>\n",
       "      <th>497</th>\n",
       "      <td>Audio 12-19-2022 16-49-00_mono_shifted_2</td>\n",
       "      <td>18.24</td>\n",
       "      <td>44100</td>\n",
       "      <td>4</td>\n",
       "    </tr>\n",
       "    <tr>\n",
       "      <th>498</th>\n",
       "      <td>Audio 12-19-2022 18-35-00_mono_trimmed_2</td>\n",
       "      <td>18.08</td>\n",
       "      <td>44100</td>\n",
       "      <td>9</td>\n",
       "    </tr>\n",
       "    <tr>\n",
       "      <th>499</th>\n",
       "      <td>Audio 12-19-2022 15-46-25_mono_shifted_1</td>\n",
       "      <td>18.58</td>\n",
       "      <td>44100</td>\n",
       "      <td>3</td>\n",
       "    </tr>\n",
       "  </tbody>\n",
       "</table>\n",
       "</div>"
      ],
      "text/plain": [
       "                                         name  duration  freq_rate  num_resp\n",
       "495  Audio 12-19-2022 15-38-13_mono_shifted_2     18.25      44100         5\n",
       "496  Audio 12-19-2022 16-06-51_mono_shifted_1     19.02      44100         7\n",
       "497  Audio 12-19-2022 16-49-00_mono_shifted_2     18.24      44100         4\n",
       "498  Audio 12-19-2022 18-35-00_mono_trimmed_2     18.08      44100         9\n",
       "499  Audio 12-19-2022 15-46-25_mono_shifted_1     18.58      44100         3"
      ]
     },
     "execution_count": 2,
     "metadata": {},
     "output_type": "execute_result"
    }
   ],
   "source": [
    "df = pd.read_csv('./data2.csv')\n",
    "df.tail(5)"
   ]
  },
  {
   "cell_type": "code",
   "execution_count": 3,
   "metadata": {},
   "outputs": [],
   "source": [
    "imgs = []\n",
    "for name in df.name.values:\n",
    "    img = load_img(f'./images2/{name}.png', target_size=(64,64))\n",
    "    img = img_to_array(img)\n",
    "    imgs.append(img)\n",
    "\n",
    "values = list(df.num_resp.values)"
   ]
  },
  {
   "cell_type": "code",
   "execution_count": 4,
   "metadata": {},
   "outputs": [
    {
     "name": "stdout",
     "output_type": "stream",
     "text": [
      "(500, 64, 64, 3) (500,)\n"
     ]
    }
   ],
   "source": [
    "imgs = asarray(imgs)\n",
    "values = asarray(values)\n",
    "print(imgs.shape, values.shape)"
   ]
  },
  {
   "cell_type": "code",
   "execution_count": 5,
   "metadata": {},
   "outputs": [],
   "source": [
    "save('imgs.npy', imgs)\n",
    "save('values.npy', values)"
   ]
  },
  {
   "cell_type": "markdown",
   "metadata": {},
   "source": [
    "## Train-test split\n",
    "\n",
    "Una vez se tienen las imágenes y las etiquetas almacenadas en archivos separados, se procederá a hacer la división de la data de entrenamiento y de test. La relación inicial es de 80-20."
   ]
  },
  {
   "cell_type": "code",
   "execution_count": 6,
   "metadata": {},
   "outputs": [
    {
     "name": "stdout",
     "output_type": "stream",
     "text": [
      "(500, 64, 64, 3) (500,)\n"
     ]
    }
   ],
   "source": [
    "figures = load('imgs.npy')\n",
    "values = load('values.npy')\n",
    "print(figures.shape, values.shape)"
   ]
  },
  {
   "cell_type": "code",
   "execution_count": 7,
   "metadata": {},
   "outputs": [
    {
     "name": "stdout",
     "output_type": "stream",
     "text": [
      "Train: X=(400, 64, 64, 3), y=(400,)\n",
      "Test: X=(100, 64, 64, 3), y=(100,)\n"
     ]
    }
   ],
   "source": [
    "# split between training and testing\n",
    "X_train, X_test, y_train, y_test = train_test_split(figures, values, test_size=0.2, shuffle=False)\n",
    "print(f'Train: X={X_train.shape}, y={y_train.shape}')\n",
    "print(f'Test: X={X_test.shape}, y={y_test.shape}')"
   ]
  },
  {
   "cell_type": "code",
   "execution_count": 8,
   "metadata": {},
   "outputs": [],
   "source": [
    "def load_dataset():\n",
    "    # load arrays\n",
    "    figures = load('imgs.npy')\n",
    "    values = load('values.npy')\n",
    "    \n",
    "    # split between train/test and reshape\n",
    "    X_train, X_test, y_train, y_test = train_test_split(figures, values, test_size=0.2, shuffle=False)\n",
    "    y_train = np.reshape(y_train, (X_train.shape[0],))\n",
    "    y_test = np.reshape(y_test, (X_test.shape[0],))\n",
    "    \n",
    "    return X_train, X_test, y_train, y_test"
   ]
  },
  {
   "cell_type": "code",
   "execution_count": 9,
   "metadata": {},
   "outputs": [],
   "source": [
    "def prep_pixels(train, test):\n",
    "    # convert from integers to float\n",
    "    train_norm = train.astype('float32')\n",
    "    test_norm = test.astype('float32')\n",
    "    # normalize to range 0-1\n",
    "    train_norm = train_norm/255.0\n",
    "    test_norm = test_norm/255.0\n",
    "    \n",
    "    # return normalized images\n",
    "    return train_norm, test_norm"
   ]
  },
  {
   "cell_type": "code",
   "execution_count": 10,
   "metadata": {},
   "outputs": [],
   "source": [
    "def define_model():\n",
    "    #Define a Convolutional Neural Network Model\n",
    "    model = models.Sequential([\n",
    "        layers.Conv2D(32, (3,3), activation='relu', input_shape=(64, 64, 3)),\n",
    "        layers.MaxPooling2D((2,2)),\n",
    "        layers.Conv2D(64, (3,3), activation='relu'),\n",
    "        layers.MaxPooling2D((2,2)),\n",
    "        layers.Conv2D(64, (3,3), activation='relu'),\n",
    "        layers.Flatten(),\n",
    "        layers.Dense(64, activation='relu'),\n",
    "        layers.Dense(1)\n",
    "    ])\n",
    "    # compile model\n",
    "    opt = optimizers.Adam(learning_rate=0.001)\n",
    "    model.compile(optimizer=opt, loss='mean_squared_error', metrics=['mae'])\n",
    "    return model"
   ]
  },
  {
   "cell_type": "code",
   "execution_count": 11,
   "metadata": {},
   "outputs": [],
   "source": [
    "\n",
    "def define_callbacks():\n",
    "  lr_callback = ReduceLROnPlateau(\n",
    "      monitor='val_loss',\n",
    "      factor=0.1,\n",
    "      patience=5,\n",
    "      min_lr=1e-5,\n",
    "      verbose=1,\n",
    "  )\n",
    "  stop_callback = EarlyStopping(\n",
    "      monitor='val_loss',\n",
    "      patience=10,\n",
    "      verbose=1,\n",
    "  )\n",
    "    \n",
    "  return [lr_callback, stop_callback]"
   ]
  },
  {
   "cell_type": "code",
   "execution_count": 12,
   "metadata": {},
   "outputs": [],
   "source": [
    "# Evaluate model \n",
    "def evaluate_model(dataX, dataY, n_folds=3):\n",
    "    scores, histories = list(), list()\n",
    "    # prepare cross validation\n",
    "    kfold = KFold(n_folds, shuffle=True, random_state=1)\n",
    "    # enumerate splits\n",
    "    for train_ix, test_ix in kfold.split(dataX):\n",
    "        # define model\n",
    "        model = define_model()\n",
    "        # select rows for train and test\n",
    "        trainX, trainY, testX, testY = dataX[train_ix], dataY[train_ix], dataX[test_ix], dataY[test_ix]\n",
    "        # fit model\n",
    "        history = model.fit(trainX, trainY, epochs=100, batch_size=8, validation_data=(testX, testY), verbose=0, callbacks=define_callbacks())\n",
    "        # evaluate model\n",
    "        _, mae = model.evaluate(testX, testY, verbose=0)\n",
    "        # store\n",
    "        print('>%.3f' % mae)\n",
    "        scores.append(mae)\n",
    "        histories.append(history)\n",
    "    return scores, histories, model"
   ]
  },
  {
   "cell_type": "code",
   "execution_count": 13,
   "metadata": {},
   "outputs": [],
   "source": [
    "def summarize_diagnostics(histories):\n",
    "    for i in range(len(histories)):\n",
    "        # plot loss\n",
    "        plt.subplot(2, 1, 1)\n",
    "        plt.title('Cross Entropy Loss')\n",
    "        plt.plot(histories[i].history['loss'], color='blue', label='train')\n",
    "        plt.plot(histories[i].history['val_loss'], color='orange', label='test')\n",
    "        # plot accuracy\n",
    "        plt.subplot(2, 1, 2)\n",
    "        plt.title('Mean Absolute Error')\n",
    "        plt.plot(histories[i].history['mae'], color='blue', label='train')\n",
    "        plt.plot(histories[i].history['val_mae'], color='orange', label='test')\n",
    "    plt.show()"
   ]
  },
  {
   "cell_type": "code",
   "execution_count": 14,
   "metadata": {},
   "outputs": [],
   "source": [
    "def summarize_performance(scores):\n",
    "    # print summary\n",
    "    print('MAE: mean=%.3f std=%.3f, n=%d' % (mean(scores), std(scores), len(scores)))\n",
    "    # box and whisker plots of results\n",
    "    plt.boxplot(scores)\n",
    "    plt.show()"
   ]
  },
  {
   "cell_type": "code",
   "execution_count": 15,
   "metadata": {},
   "outputs": [],
   "source": [
    "def run_test_harness():\n",
    "    # load dataset\n",
    "    trainX, testX, trainY, testY = load_dataset()\n",
    "    # prepare pixel data\n",
    "    trainX, testX = prep_pixels(trainX, testX)\n",
    "    # evaluate model\n",
    "    scores, histories, model = evaluate_model(trainX, trainY)\n",
    "    # learning curves\n",
    "    summarize_diagnostics(histories)\n",
    "    # summarize estimated performance\n",
    "    summarize_performance(scores)\n",
    "\n",
    "    return model"
   ]
  },
  {
   "cell_type": "code",
   "execution_count": 16,
   "metadata": {},
   "outputs": [
    {
     "name": "stderr",
     "output_type": "stream",
     "text": [
      "2022-12-20 16:48:22.246205: I tensorflow/core/common_runtime/pluggable_device/pluggable_device_factory.cc:306] Could not identify NUMA node of platform GPU ID 0, defaulting to 0. Your kernel may not have been built with NUMA support.\n",
      "2022-12-20 16:48:22.246348: I tensorflow/core/common_runtime/pluggable_device/pluggable_device_factory.cc:272] Created TensorFlow device (/job:localhost/replica:0/task:0/device:GPU:0 with 0 MB memory) -> physical PluggableDevice (device: 0, name: METAL, pci bus id: <undefined>)\n",
      "2022-12-20 16:48:22.449846: W tensorflow/core/platform/profile_utils/cpu_utils.cc:128] Failed to get CPU frequency: 0 Hz\n"
     ]
    },
    {
     "name": "stdout",
     "output_type": "stream",
     "text": [
      "Metal device set to: Apple M1 Pro\n",
      "\n",
      "systemMemory: 16.00 GB\n",
      "maxCacheSize: 5.33 GB\n",
      "\n"
     ]
    },
    {
     "name": "stderr",
     "output_type": "stream",
     "text": [
      "2022-12-20 16:48:22.716547: I tensorflow/core/grappler/optimizers/custom_graph_optimizer_registry.cc:114] Plugin optimizer for device_type GPU is enabled.\n",
      "2022-12-20 16:48:24.277995: I tensorflow/core/grappler/optimizers/custom_graph_optimizer_registry.cc:114] Plugin optimizer for device_type GPU is enabled.\n"
     ]
    },
    {
     "name": "stdout",
     "output_type": "stream",
     "text": [
      "\n",
      "Epoch 27: ReduceLROnPlateau reducing learning rate to 0.00010000000474974513.\n",
      "\n",
      "Epoch 43: ReduceLROnPlateau reducing learning rate to 1.0000000474974514e-05.\n",
      "\n",
      "Epoch 48: ReduceLROnPlateau reducing learning rate to 1e-05.\n",
      "Epoch 48: early stopping\n",
      ">0.312\n"
     ]
    },
    {
     "name": "stderr",
     "output_type": "stream",
     "text": [
      "2022-12-20 16:48:44.611295: I tensorflow/core/grappler/optimizers/custom_graph_optimizer_registry.cc:114] Plugin optimizer for device_type GPU is enabled.\n",
      "2022-12-20 16:48:45.696563: I tensorflow/core/grappler/optimizers/custom_graph_optimizer_registry.cc:114] Plugin optimizer for device_type GPU is enabled.\n"
     ]
    },
    {
     "name": "stdout",
     "output_type": "stream",
     "text": [
      "\n",
      "Epoch 15: ReduceLROnPlateau reducing learning rate to 0.00010000000474974513.\n",
      "\n",
      "Epoch 30: ReduceLROnPlateau reducing learning rate to 1.0000000474974514e-05.\n",
      "\n",
      "Epoch 40: ReduceLROnPlateau reducing learning rate to 1e-05.\n",
      "Epoch 58: early stopping\n",
      ">0.302\n"
     ]
    },
    {
     "name": "stderr",
     "output_type": "stream",
     "text": [
      "2022-12-20 16:49:10.613396: I tensorflow/core/grappler/optimizers/custom_graph_optimizer_registry.cc:114] Plugin optimizer for device_type GPU is enabled.\n",
      "2022-12-20 16:49:11.320585: I tensorflow/core/grappler/optimizers/custom_graph_optimizer_registry.cc:114] Plugin optimizer for device_type GPU is enabled.\n"
     ]
    },
    {
     "name": "stdout",
     "output_type": "stream",
     "text": [
      "\n",
      "Epoch 25: ReduceLROnPlateau reducing learning rate to 0.00010000000474974513.\n",
      "\n",
      "Epoch 42: ReduceLROnPlateau reducing learning rate to 1.0000000474974514e-05.\n",
      "\n",
      "Epoch 47: ReduceLROnPlateau reducing learning rate to 1e-05.\n",
      "Epoch 61: early stopping\n",
      ">0.297\n"
     ]
    },
    {
     "data": {
      "image/png": "[encoded data removed]",
      "text/plain": [
       "<Figure size 432x288 with 2 Axes>"
      ]
     },
     "metadata": {
      "needs_background": "light"
     },
     "output_type": "display_data"
    },
    {
     "name": "stdout",
     "output_type": "stream",
     "text": [
      "MAE: mean=0.304 std=0.006, n=3\n"
     ]
    },
    {
     "data": {
      "image/png": "[encoded data removed]",
      "text/plain": [
       "<Figure size 432x288 with 1 Axes>"
      ]
     },
     "metadata": {
      "needs_background": "light"
     },
     "output_type": "display_data"
    }
   ],
   "source": [
    "# load dataset\n",
    "trainX, testX, trainY, testY = load_dataset()\n",
    "# prepare pixel data\n",
    "trainX, testX = prep_pixels(trainX, testX)\n",
    "# evaluate model\n",
    "scores, histories, model = evaluate_model(trainX, trainY)\n",
    "# learning curves\n",
    "summarize_diagnostics(histories)\n",
    "# summarize estimated performance\n",
    "summarize_performance(scores)\n",
    "\n",
    "# save model\n",
    "model.save('model2.h5')"
   ]
  },
  {
   "cell_type": "code",
   "execution_count": 17,
   "metadata": {},
   "outputs": [],
   "source": [
    "model = load_model('model2.h5')"
   ]
  },
  {
   "cell_type": "code",
   "execution_count": 18,
   "metadata": {},
   "outputs": [
    {
     "name": "stdout",
     "output_type": "stream",
     "text": [
      "4/4 [==============================] - 0s 16ms/step\n",
      "Mean Absolute Error: 2.36 degrees.\n"
     ]
    },
    {
     "name": "stderr",
     "output_type": "stream",
     "text": [
      "2022-12-20 16:49:37.055061: I tensorflow/core/grappler/optimizers/custom_graph_optimizer_registry.cc:114] Plugin optimizer for device_type GPU is enabled.\n"
     ]
    }
   ],
   "source": [
    "# Make predictions with the model\n",
    "y_pred = model.predict(testX)\n",
    "\n",
    "# Round result\n",
    "y_pred_rounded = np.round(y_pred)\n",
    "\n",
    "# Calculate the absolute errors \n",
    "errors = abs(y_pred_rounded - testY)\n",
    "\n",
    "# Print out the mean absolute error (mae)\n",
    "print('Mean Absolute Error:', round(np.mean(errors), 2), 'degrees.')"
   ]
  },
  {
   "cell_type": "code",
   "execution_count": 19,
   "metadata": {},
   "outputs": [
    {
     "name": "stdout",
     "output_type": "stream",
     "text": [
      "Predicted: 6.866, Rounded: 7.000, Expected: 7.000\n",
      "Predicted: 2.905, Rounded: 3.000, Expected: 3.000\n",
      "Predicted: 2.972, Rounded: 3.000, Expected: 3.000\n",
      "Predicted: 3.268, Rounded: 3.000, Expected: 3.000\n",
      "Predicted: 7.192, Rounded: 7.000, Expected: 8.000\n",
      "Predicted: 3.135, Rounded: 3.000, Expected: 3.000\n",
      "Predicted: 4.320, Rounded: 4.000, Expected: 4.000\n",
      "Predicted: 4.117, Rounded: 4.000, Expected: 4.000\n",
      "Predicted: 2.817, Rounded: 3.000, Expected: 3.000\n",
      "Predicted: 3.064, Rounded: 3.000, Expected: 3.000\n",
      "Predicted: 6.747, Rounded: 7.000, Expected: 7.000\n",
      "Predicted: 8.509, Rounded: 9.000, Expected: 10.000\n",
      "Predicted: 3.184, Rounded: 3.000, Expected: 3.000\n",
      "Predicted: 3.836, Rounded: 4.000, Expected: 4.000\n",
      "Predicted: 6.947, Rounded: 7.000, Expected: 7.000\n",
      "Predicted: 8.128, Rounded: 8.000, Expected: 8.000\n",
      "Predicted: 6.653, Rounded: 7.000, Expected: 6.000\n",
      "Predicted: 3.430, Rounded: 3.000, Expected: 3.000\n",
      "Predicted: 4.144, Rounded: 4.000, Expected: 4.000\n",
      "Predicted: 6.729, Rounded: 7.000, Expected: 7.000\n",
      "Predicted: 4.490, Rounded: 4.000, Expected: 5.000\n",
      "Predicted: 3.466, Rounded: 3.000, Expected: 3.000\n",
      "Predicted: 3.112, Rounded: 3.000, Expected: 3.000\n",
      "Predicted: 3.165, Rounded: 3.000, Expected: 3.000\n",
      "Predicted: 3.937, Rounded: 4.000, Expected: 4.000\n",
      "Predicted: 3.282, Rounded: 3.000, Expected: 3.000\n",
      "Predicted: 2.935, Rounded: 3.000, Expected: 3.000\n",
      "Predicted: 6.856, Rounded: 7.000, Expected: 7.000\n",
      "Predicted: 3.102, Rounded: 3.000, Expected: 3.000\n",
      "Predicted: 7.544, Rounded: 8.000, Expected: 8.000\n",
      "Predicted: 8.919, Rounded: 9.000, Expected: 10.000\n",
      "Predicted: 9.762, Rounded: 10.000, Expected: 9.000\n",
      "Predicted: 4.740, Rounded: 5.000, Expected: 5.000\n",
      "Predicted: 4.139, Rounded: 4.000, Expected: 4.000\n",
      "Predicted: 2.963, Rounded: 3.000, Expected: 3.000\n",
      "Predicted: 4.964, Rounded: 5.000, Expected: 5.000\n",
      "Predicted: 3.052, Rounded: 3.000, Expected: 3.000\n",
      "Predicted: 7.246, Rounded: 7.000, Expected: 7.000\n",
      "Predicted: 7.308, Rounded: 7.000, Expected: 7.000\n",
      "Predicted: 5.257, Rounded: 5.000, Expected: 5.000\n",
      "Predicted: 7.145, Rounded: 7.000, Expected: 7.000\n",
      "Predicted: 3.667, Rounded: 4.000, Expected: 4.000\n",
      "Predicted: 3.817, Rounded: 4.000, Expected: 4.000\n",
      "Predicted: 8.369, Rounded: 8.000, Expected: 8.000\n",
      "Predicted: 2.793, Rounded: 3.000, Expected: 3.000\n",
      "Predicted: 3.152, Rounded: 3.000, Expected: 3.000\n",
      "Predicted: 2.979, Rounded: 3.000, Expected: 3.000\n",
      "Predicted: 6.287, Rounded: 6.000, Expected: 7.000\n",
      "Predicted: 3.262, Rounded: 3.000, Expected: 3.000\n",
      "Predicted: 3.127, Rounded: 3.000, Expected: 3.000\n",
      "Predicted: 8.445, Rounded: 8.000, Expected: 9.000\n",
      "Predicted: 4.543, Rounded: 5.000, Expected: 5.000\n",
      "Predicted: 3.601, Rounded: 4.000, Expected: 3.000\n",
      "Predicted: 3.126, Rounded: 3.000, Expected: 3.000\n",
      "Predicted: 4.140, Rounded: 4.000, Expected: 4.000\n",
      "Predicted: 8.150, Rounded: 8.000, Expected: 9.000\n",
      "Predicted: 6.652, Rounded: 7.000, Expected: 6.000\n",
      "Predicted: 3.949, Rounded: 4.000, Expected: 4.000\n",
      "Predicted: 7.727, Rounded: 8.000, Expected: 9.000\n",
      "Predicted: 8.208, Rounded: 8.000, Expected: 8.000\n",
      "Predicted: 4.313, Rounded: 4.000, Expected: 5.000\n",
      "Predicted: 5.992, Rounded: 6.000, Expected: 6.000\n",
      "Predicted: 5.092, Rounded: 5.000, Expected: 5.000\n",
      "Predicted: 6.988, Rounded: 7.000, Expected: 7.000\n",
      "Predicted: 4.116, Rounded: 4.000, Expected: 4.000\n",
      "Predicted: 9.079, Rounded: 9.000, Expected: 9.000\n",
      "Predicted: 3.266, Rounded: 3.000, Expected: 3.000\n",
      "Predicted: 4.136, Rounded: 4.000, Expected: 4.000\n",
      "Predicted: 4.524, Rounded: 5.000, Expected: 5.000\n",
      "Predicted: 3.061, Rounded: 3.000, Expected: 3.000\n",
      "Predicted: 3.085, Rounded: 3.000, Expected: 3.000\n",
      "Predicted: 5.156, Rounded: 5.000, Expected: 5.000\n",
      "Predicted: 8.019, Rounded: 8.000, Expected: 7.000\n",
      "Predicted: 8.014, Rounded: 8.000, Expected: 8.000\n",
      "Predicted: 7.136, Rounded: 7.000, Expected: 7.000\n",
      "Predicted: 3.973, Rounded: 4.000, Expected: 4.000\n",
      "Predicted: 8.741, Rounded: 9.000, Expected: 8.000\n",
      "Predicted: 3.126, Rounded: 3.000, Expected: 3.000\n",
      "Predicted: 3.248, Rounded: 3.000, Expected: 3.000\n",
      "Predicted: 6.457, Rounded: 6.000, Expected: 7.000\n",
      "Predicted: 3.030, Rounded: 3.000, Expected: 3.000\n",
      "Predicted: 3.068, Rounded: 3.000, Expected: 3.000\n",
      "Predicted: 3.310, Rounded: 3.000, Expected: 3.000\n",
      "Predicted: 8.369, Rounded: 8.000, Expected: 9.000\n",
      "Predicted: 4.202, Rounded: 4.000, Expected: 5.000\n",
      "Predicted: 3.051, Rounded: 3.000, Expected: 3.000\n",
      "Predicted: 2.739, Rounded: 3.000, Expected: 3.000\n",
      "Predicted: 4.382, Rounded: 4.000, Expected: 4.000\n",
      "Predicted: 8.866, Rounded: 9.000, Expected: 9.000\n",
      "Predicted: 6.287, Rounded: 6.000, Expected: 6.000\n",
      "Predicted: 4.146, Rounded: 4.000, Expected: 4.000\n",
      "Predicted: 7.784, Rounded: 8.000, Expected: 9.000\n",
      "Predicted: 8.729, Rounded: 9.000, Expected: 8.000\n",
      "Predicted: 4.410, Rounded: 4.000, Expected: 5.000\n",
      "Predicted: 6.140, Rounded: 6.000, Expected: 6.000\n",
      "Predicted: 4.798, Rounded: 5.000, Expected: 5.000\n",
      "Predicted: 7.140, Rounded: 7.000, Expected: 7.000\n",
      "Predicted: 4.263, Rounded: 4.000, Expected: 4.000\n",
      "Predicted: 8.476, Rounded: 8.000, Expected: 9.000\n",
      "Predicted: 3.340, Rounded: 3.000, Expected: 3.000\n"
     ]
    }
   ],
   "source": [
    "for i in range(len(y_pred_rounded)):\n",
    "    print('Predicted: %.3f, Rounded: %.3f, Expected: %.3f' % (y_pred[i], y_pred_rounded[i], y_test[i]))"
   ]
  },
  {
   "cell_type": "code",
   "execution_count": null,
   "metadata": {},
   "outputs": [],
   "source": []
  }
 ],
 "metadata": {
  "kernelspec": {
   "display_name": "Python 3.10.6 64-bit",
   "language": "python",
   "name": "python3"
  },
  "language_info": {
   "codemirror_mode": {
    "name": "ipython",
    "version": 3
   },
   "file_extension": ".py",
   "mimetype": "text/x-python",
   "name": "python",
   "nbconvert_exporter": "python",
   "pygments_lexer": "ipython3",
   "version": "3.10.6"
  },
  "orig_nbformat": 4,
  "vscode": {
   "interpreter": {
    "hash": "aee8b7b246df8f9039afb4144a1f6fd8d2ca17a180786b69acc140d282b71a49"
   }
  }
 },
 "nbformat": 4,
 "nbformat_minor": 2
}
