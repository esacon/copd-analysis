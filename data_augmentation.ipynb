{
 "cells": [
  {
   "cell_type": "code",
   "execution_count": 1,
   "metadata": {},
   "outputs": [
    {
     "name": "stderr",
     "output_type": "stream",
     "text": [
      "/Library/Frameworks/Python.framework/Versions/3.10/lib/python3.10/site-packages/pydub/utils.py:170: RuntimeWarning: Couldn't find ffmpeg or avconv - defaulting to ffmpeg, but may not work\n",
      "  warn(\"Couldn't find ffmpeg or avconv - defaulting to ffmpeg, but may not work\", RuntimeWarning)\n"
     ]
    }
   ],
   "source": [
    "import os\n",
    "import librosa\n",
    "import librosa.display\n",
    "import noisereduce as nr\n",
    "from pydub import AudioSegment as am\n",
    "from scipy.signal import butter, lfilter\n",
    "from matplotlib import pyplot as plt\n",
    "import numpy as np"
   ]
  },
  {
   "cell_type": "code",
   "execution_count": 2,
   "metadata": {},
   "outputs": [],
   "source": [
    "# Path to audios folder\n",
    "path = './audios'\n",
    "# List of audio files\n",
    "files = os.listdir(path)"
   ]
  },
  {
   "cell_type": "code",
   "execution_count": 8,
   "metadata": {},
   "outputs": [],
   "source": [
    "# Function to shift x seconds each audio\n",
    "def shift_audio(file, x):\n",
    "    \"\"\"\n",
    "    Shifts x seconds each audio\n",
    "\n",
    "    Parameters\n",
    "    ----------\n",
    "    file : str\n",
    "        Name of the audio file\n",
    "    x : int\n",
    "        Number of seconds to shift\n",
    "\n",
    "    Returns\n",
    "    -------\n",
    "    None\n",
    "    \"\"\"\n",
    "    # Load audio\n",
    "    audio = am.from_file(path + '/' + file)\n",
    "    # Shift audio\n",
    "    shifted = audio[x * 1000:]\n",
    "    # Save audio\n",
    "    shifted.export(path + '/' + file[:-4] + '_shifted_' + str(x) + '.wav', format='wav')\n"
   ]
  },
  {
   "cell_type": "code",
   "execution_count": 15,
   "metadata": {},
   "outputs": [],
   "source": [
    "# Trim audio\n",
    "def trim_audio(file, x):\n",
    "    \"\"\"\n",
    "    Trims x seconds from the beginning of each audio\n",
    "\n",
    "    Parameters\n",
    "    ----------\n",
    "    file : str\n",
    "        Name of the audio file\n",
    "    x : int\n",
    "        Number of seconds to trim\n",
    "\n",
    "    Returns\n",
    "    -------\n",
    "    None\n",
    "    \"\"\"\n",
    "    # Load audio\n",
    "    audio = am.from_file(path + '/' + file)\n",
    "    # Trim audio\n",
    "    trimmed = audio[:len(audio) - x * 1000]\n",
    "    # Save audio\n",
    "    trimmed.export(path + '/' + file[:-4] + '_trimmed_' + str(x) + '.wav', format='wav')"
   ]
  },
  {
   "cell_type": "code",
   "execution_count": 16,
   "metadata": {},
   "outputs": [],
   "source": [
    "# Loop\n",
    "for file in files:\n",
    "    # Shift audio 1 second \n",
    "    shift_audio(file, 1)\n",
    "    # Shift audio 2 seconds\n",
    "    shift_audio(file, 2)\n",
    "    # Trim audio 1 second\n",
    "    trim_audio(file, 1)\n",
    "    # Trim audio 2 seconds\n",
    "    trim_audio(file, 2)"
   ]
  }
 ],
 "metadata": {
  "kernelspec": {
   "display_name": "Python 3",
   "language": "python",
   "name": "python3"
  },
  "language_info": {
   "codemirror_mode": {
    "name": "ipython",
    "version": 3
   },
   "file_extension": ".py",
   "mimetype": "text/x-python",
   "name": "python",
   "nbconvert_exporter": "python",
   "pygments_lexer": "ipython3",
   "version": "3.10.6 (v3.10.6:9c7b4bd164, Aug  1 2022, 17:13:48) [Clang 13.0.0 (clang-1300.0.29.30)]"
  },
  "orig_nbformat": 4,
  "vscode": {
   "interpreter": {
    "hash": "aee8b7b246df8f9039afb4144a1f6fd8d2ca17a180786b69acc140d282b71a49"
   }
  }
 },
 "nbformat": 4,
 "nbformat_minor": 2
}
